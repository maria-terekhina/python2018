{
 "cells": [
  {
   "cell_type": "markdown",
   "metadata": {},
   "source": [
    "# Assignment 2"
   ]
  },
  {
   "cell_type": "markdown",
   "metadata": {},
   "source": [
    "Продемонстрировать положение No Free Lunch Theorem. (см материалы семинара)   \n",
    "Качество работы оценивается по accuracy на тестовой выборке согласно пайплайну (см материалы семинара). Метод валидации (если вы его применяете) 5-fold cv.  \n",
    "В выводе для каждой модели указать какие предположения она делает относительно данных. В выводе указать почему модель плохо / хорошо работает на сгенерированной вами выборке. Использовать пространство признаков размерности 2 при классификации и размерности 1 при регрессии. При возможности, нарисовать выборку на графике (цветами обозначить классы).  \n",
    "\n",
    "\n",
    "1. Сгенерировать датасет для задачи бинарной классификации (binary crossentropy), \n",
    "на котором метод ближайших соседей работает хуже, чем логистическая регрессия. \n",
    "\n",
    "2. Сгенерировать датасет для задачи бинарной классификации (binary crossentropy), \n",
    "на котором логистическая регрессия работает хуже, чем метод ближайших соседей.\n",
    "\n",
    "3. Сгенерировать датасет для задачи бинарной классификации (binary crossentropy), \n",
    "на котором метод ближайших соседей с косинусной метрикой расстояния работает лучше, чем с евклидовой метрикой.\n",
    "\n",
    "4. Сгенерировать датасет для задачи регрессии (MSE),\n",
    "на котором решающее дерево работает хуже, чем линейная регрессия. \n"
   ]
  },
  {
   "cell_type": "markdown",
   "metadata": {},
   "source": [
    "##### Предположения моделей"
   ]
  },
  {
   "cell_type": "markdown",
   "metadata": {},
   "source": [
    "Логистическая регрессия делает предположение, что объекты выборки можно разделить на классы линейной разделяющей поверхностью (в случае двумерного пространства признаков - прямой).\n",
    "\n",
    "Метод ближайших соседей делает предположение, что объекты, находящиеся рядом, относятся к одному классу. \n",
    "\n",
    "Линейная регрессия делает предположение, что целевая переменная зависит от данной(ых) линейно. \n",
    "\n",
    "Решающее дерево предполагает, что все объекты можно разбить на группы, используя для этого пороги для признаков. Значение целевой переменной будет равно среднему значению целевой переменной объектов, попавших в ту же группу."
   ]
  },
  {
   "cell_type": "code",
   "execution_count": 24,
   "metadata": {},
   "outputs": [],
   "source": [
    "from matplotlib import pyplot as plt\n",
    "from sklearn.linear_model import LogisticRegression, LinearRegression\n",
    "from sklearn.neighbors import KNeighborsClassifier\n",
    "from sklearn.tree import DecisionTreeClassifier\n",
    "import pandas as pd\n",
    "from sklearn.model_selection import cross_val_score\n",
    "%matplotlib inline\n",
    "import warnings\n",
    "warnings.filterwarnings(\"ignore\")\n",
    "from sklearn.model_selection import LeaveOneOut\n",
    "import numpy as np"
   ]
  },
  {
   "cell_type": "code",
   "execution_count": 2,
   "metadata": {
    "collapsed": true
   },
   "outputs": [],
   "source": [
    "class Compearer():\n",
    "    def __init__(self, m1, m2, X, y):\n",
    "        self.m1 = m1\n",
    "        self.m2 = m2\n",
    "        self.X = X\n",
    "        self.y = y\n",
    "        \n",
    "    def validate(self, metric, cv):\n",
    "        score1 = cross_val_score(self.m1, self.X, self.y, cv=cv, scoring=metric)\n",
    "        score2 = cross_val_score(self.m2, self.X, self.y, cv=cv, scoring=metric)\n",
    "        \n",
    "        if metric == 'accuracy':\n",
    "            print(self.m1, metric, 'score: ', score1)\n",
    "            print(self.m2, metric, 'score: ', score2)\n",
    "        else:\n",
    "            print(self.m1, metric, 'score: ', np.mean(score1))\n",
    "            print(self.m2, metric, 'score: ', np.mean(score2))"
   ]
  },
  {
   "cell_type": "markdown",
   "metadata": {},
   "source": [
    "##### 1) Сгенерировать датасет для задачи бинарной классификации (binary crossentropy), на котором метод ближайших соседей работает хуже, чем логистическая регрессия."
   ]
  },
  {
   "cell_type": "markdown",
   "metadata": {},
   "source": [
    "На данной выборке KNN будет работать плохо, потому что объекты разных классов расположены ближе друк к другу, чем объекты одного класса. Логистическая регрессия будет работать хорошо, т.к. выборка линейно разделимая."
   ]
  },
  {
   "cell_type": "code",
   "execution_count": 3,
   "metadata": {
    "collapsed": true
   },
   "outputs": [],
   "source": [
    "X1 = list(range(1, 1000, 50)) + list(range(10, 1000, 50))\n",
    "X2 = list(range(1, 1000, 50)) + list(range(1, 1000, 50))\n",
    "y = [0] * (len(X1)//2) + [1] * (len(X1)//2)"
   ]
  },
  {
   "cell_type": "code",
   "execution_count": 4,
   "metadata": {},
   "outputs": [
    {
     "data": {
      "text/plain": [
       "<matplotlib.collections.PathCollection at 0x57fd19b0b8>"
      ]
     },
     "execution_count": 4,
     "metadata": {},
     "output_type": "execute_result"
    },
    {
     "data": {
      "image/png": "[encoded data removed]",
      "text/plain": [
       "<matplotlib.figure.Figure at 0x57fd10b630>"
      ]
     },
     "metadata": {},
     "output_type": "display_data"
    }
   ],
   "source": [
    "plt.scatter(X1, X2, c=y)"
   ]
  },
  {
   "cell_type": "code",
   "execution_count": 5,
   "metadata": {},
   "outputs": [],
   "source": [
    "data_1 = pd.DataFrame({'X1': X1, 'X2': X2})"
   ]
  },
  {
   "cell_type": "code",
   "execution_count": 6,
   "metadata": {},
   "outputs": [],
   "source": [
    "lgr = LogisticRegression()\n",
    "knn = KNeighborsClassifier(n_neighbors=3)"
   ]
  },
  {
   "cell_type": "code",
   "execution_count": 7,
   "metadata": {},
   "outputs": [],
   "source": [
    "C = Compearer(lgr, knn, data_1, y)"
   ]
  },
  {
   "cell_type": "code",
   "execution_count": 8,
   "metadata": {},
   "outputs": [
    {
     "name": "stdout",
     "output_type": "stream",
     "text": [
      "LogisticRegression(C=1.0, class_weight=None, dual=False, fit_intercept=True,\n",
      "          intercept_scaling=1, max_iter=100, multi_class='ovr', n_jobs=1,\n",
      "          penalty='l2', random_state=None, solver='liblinear', tol=0.0001,\n",
      "          verbose=0, warm_start=False) accuracy score:  [ 1.  1.  1.  1.  1.]\n",
      "KNeighborsClassifier(algorithm='auto', leaf_size=30, metric='minkowski',\n",
      "           metric_params=None, n_jobs=1, n_neighbors=3, p=2,\n",
      "           weights='uniform') accuracy score:  [ 0.5   0.25  0.25  0.25  0.5 ]\n"
     ]
    }
   ],
   "source": [
    "C.validate('accuracy', 5)"
   ]
  },
  {
   "cell_type": "markdown",
   "metadata": {},
   "source": [
    "##### 2) Сгенерировать датасет для задачи бинарной классификации (binary crossentropy), на котором логистическая регрессия работает хуже, чем метод ближайших соседей."
   ]
  },
  {
   "cell_type": "markdown",
   "metadata": {},
   "source": [
    "На данной выборке LogReg будет работать плохо, т.к. невозможно линейно разделить два класса между собой. KNN будет работать хорошо (везде кроме места пересечения), т.к. объекты одного класса ближе друг к другу. В месте персечения выбор класса для объекта зависит от порядка перебора, т.к. расстояния одинаковые."
   ]
  },
  {
   "cell_type": "code",
   "execution_count": 9,
   "metadata": {},
   "outputs": [],
   "source": [
    "X1 = list(range(1, 1000, 25)) + list(range(1000, 1, -25))\n",
    "X2 = list(range(1, 1000, 25)) + list(range(1, 1000, 25))\n",
    "y = [0] * (len(X1) // 2) + [1] * (len(X1) // 2)"
   ]
  },
  {
   "cell_type": "code",
   "execution_count": 10,
   "metadata": {},
   "outputs": [
    {
     "data": {
      "text/plain": [
       "<matplotlib.collections.PathCollection at 0x57fd6337f0>"
      ]
     },
     "execution_count": 10,
     "metadata": {},
     "output_type": "execute_result"
    },
    {
     "data": {
      "image/png": "[encoded data removed]",
      "text/plain": [
       "<matplotlib.figure.Figure at 0x57fd16b898>"
      ]
     },
     "metadata": {},
     "output_type": "display_data"
    }
   ],
   "source": [
    "plt.scatter(X1, X2, c=y)"
   ]
  },
  {
   "cell_type": "code",
   "execution_count": 11,
   "metadata": {
    "collapsed": true
   },
   "outputs": [],
   "source": [
    "data_2 = pd.DataFrame({'X1': X1, 'X2': X2})"
   ]
  },
  {
   "cell_type": "code",
   "execution_count": 12,
   "metadata": {
    "collapsed": true
   },
   "outputs": [],
   "source": [
    "lgr = LogisticRegression()\n",
    "knn = KNeighborsClassifier(n_neighbors=3)"
   ]
  },
  {
   "cell_type": "code",
   "execution_count": 13,
   "metadata": {},
   "outputs": [
    {
     "name": "stdout",
     "output_type": "stream",
     "text": [
      "LogisticRegression(C=1.0, class_weight=None, dual=False, fit_intercept=True,\n",
      "          intercept_scaling=1, max_iter=100, multi_class='ovr', n_jobs=1,\n",
      "          penalty='l2', random_state=None, solver='liblinear', tol=0.0001,\n",
      "          verbose=0, warm_start=False) accuracy score:  [ 0.   0.   0.5  0.   0. ]\n",
      "KNeighborsClassifier(algorithm='auto', leaf_size=30, metric='minkowski',\n",
      "           metric_params=None, n_jobs=1, n_neighbors=3, p=2,\n",
      "           weights='uniform') accuracy score:  [ 1.     1.     0.875  1.     1.   ]\n"
     ]
    }
   ],
   "source": [
    "C = Compearer(lgr, knn, data_2, y)\n",
    "C.validate('accuracy', 5)"
   ]
  },
  {
   "cell_type": "markdown",
   "metadata": {},
   "source": [
    "##### 3) Сгенерировать датасет для задачи бинарной классификации (binary crossentropy), на котором метод ближайших соседей с косинусной метрикой расстояния работает лучше, чем с евклидовой метрикой.\n"
   ]
  },
  {
   "cell_type": "code",
   "execution_count": 14,
   "metadata": {
    "collapsed": true
   },
   "outputs": [],
   "source": [
    "from sklearn.metrics.pairwise import cosine_similarity"
   ]
  },
  {
   "cell_type": "markdown",
   "metadata": {},
   "source": [
    "Здесь подойдет набор данных из пункта 1. Косинусная мера близости между двумя точками - размер угла между векторами, проведенного из начала координат к этим точкам. На данном наборе евклидова мера будет работать хуже, чем косинусная, поскольку точки, расположенные на одной прямой надодятся дальше друг от друга, чем точки на двух отрезках параллельных прямых. Однако для точек, лежащих на одной прямой, по ком=синусной метрике будут ближе, чем лежащие на параллельных прямых."
   ]
  },
  {
   "cell_type": "code",
   "execution_count": 15,
   "metadata": {
    "collapsed": true
   },
   "outputs": [],
   "source": [
    "X1 = list(range(1, 1000, 50)) + list(range(10, 1000, 50))\n",
    "X2 = list(range(1, 1000, 50)) + list(range(1, 1000, 50))\n",
    "y = [0] * (len(X1)//2) + [1] * (len(X1)//2)"
   ]
  },
  {
   "cell_type": "code",
   "execution_count": 16,
   "metadata": {},
   "outputs": [
    {
     "data": {
      "text/plain": [
       "<matplotlib.collections.PathCollection at 0x57fd6a5518>"
      ]
     },
     "execution_count": 16,
     "metadata": {},
     "output_type": "execute_result"
    },
    {
     "data": {
      "image/png": "[encoded data removed]",
      "text/plain": [
       "<matplotlib.figure.Figure at 0x57fd605160>"
      ]
     },
     "metadata": {},
     "output_type": "display_data"
    }
   ],
   "source": [
    "plt.scatter(X1, X2, c=y)"
   ]
  },
  {
   "cell_type": "code",
   "execution_count": 17,
   "metadata": {
    "collapsed": true
   },
   "outputs": [],
   "source": [
    "data_3 = pd.DataFrame({'X1': X1, 'X2': X2})"
   ]
  },
  {
   "cell_type": "code",
   "execution_count": 18,
   "metadata": {
    "collapsed": true
   },
   "outputs": [],
   "source": [
    "knn_cos = KNeighborsClassifier(n_neighbors=3, metric=cosine_similarity)\n",
    "knn_euc = KNeighborsClassifier(n_neighbors=3, metric='euclidean')"
   ]
  },
  {
   "cell_type": "code",
   "execution_count": 19,
   "metadata": {},
   "outputs": [
    {
     "name": "stdout",
     "output_type": "stream",
     "text": [
      "KNeighborsClassifier(algorithm='auto', leaf_size=30,\n",
      "           metric=<function cosine_similarity at 0x00000057FC2B9378>,\n",
      "           metric_params=None, n_jobs=1, n_neighbors=3, p=2,\n",
      "           weights='uniform') accuracy score:  [ 0.   0.5  0.5  0.5  0.5]\n",
      "KNeighborsClassifier(algorithm='auto', leaf_size=30, metric='euclidean',\n",
      "           metric_params=None, n_jobs=1, n_neighbors=3, p=2,\n",
      "           weights='uniform') accuracy score:  [ 0.5   0.25  0.25  0.25  0.5 ]\n"
     ]
    }
   ],
   "source": [
    "C = Compearer(knn_cos, knn_euc, data_3, y)\n",
    "C.validate('accuracy', 5)"
   ]
  },
  {
   "cell_type": "markdown",
   "metadata": {},
   "source": [
    "##### 4. Сгенерировать датасет для задачи регрессии (MSE), на котором решающее дерево работает хуже, чем линейная регрессия. "
   ]
  },
  {
   "cell_type": "markdown",
   "metadata": {},
   "source": [
    "На данном наборе решающее дерево будет работать плохо, т.к. при разбиении по единственному признаку для всех новых объектов, значение призака которого больше, чем у объектов в обучающей выборке, мы будем получать одинаковое значение (т.е. не сможем приблизить линейное возрастание, на графике это будет выглядеть как плато после последнего объекта). Линейная регрессия будет работать хорошо на этих данных, т.к. значения идеально подходят под ее предположение о линейной зависимости одной переменной от другой."
   ]
  },
  {
   "cell_type": "code",
   "execution_count": 20,
   "metadata": {
    "collapsed": true
   },
   "outputs": [],
   "source": [
    "X = list(range(1, 100, 5))\n",
    "y = list(range(1, 100, 5))"
   ]
  },
  {
   "cell_type": "code",
   "execution_count": 21,
   "metadata": {},
   "outputs": [
    {
     "data": {
      "text/plain": [
       "<matplotlib.collections.PathCollection at 0x57fd706cf8>"
      ]
     },
     "execution_count": 21,
     "metadata": {},
     "output_type": "execute_result"
    },
    {
     "data": {
      "image/png": "[encoded data removed]",
      "text/plain": [
       "<matplotlib.figure.Figure at 0x57fd6baac8>"
      ]
     },
     "metadata": {},
     "output_type": "display_data"
    }
   ],
   "source": [
    "plt.scatter(X, y)"
   ]
  },
  {
   "cell_type": "code",
   "execution_count": 25,
   "metadata": {},
   "outputs": [],
   "source": [
    "X = np.array(X).reshape((len(X),1))"
   ]
  },
  {
   "cell_type": "code",
   "execution_count": 26,
   "metadata": {
    "collapsed": true
   },
   "outputs": [],
   "source": [
    "linr = LinearRegression()\n",
    "dtc = DecisionTreeClassifier()"
   ]
  },
  {
   "cell_type": "code",
   "execution_count": 27,
   "metadata": {},
   "outputs": [],
   "source": [
    "loo = LeaveOneOut()"
   ]
  },
  {
   "cell_type": "code",
   "execution_count": 28,
   "metadata": {},
   "outputs": [
    {
     "name": "stdout",
     "output_type": "stream",
     "text": [
      "LinearRegression(copy_X=True, fit_intercept=True, n_jobs=1, normalize=False) mean_squared_error score:  -2.21275483914e-29\n",
      "DecisionTreeClassifier(class_weight=None, criterion='gini', max_depth=None,\n",
      "            max_features=None, max_leaf_nodes=None,\n",
      "            min_impurity_split=1e-07, min_samples_leaf=1,\n",
      "            min_samples_split=2, min_weight_fraction_leaf=0.0,\n",
      "            presort=False, random_state=None, splitter='best') mean_squared_error score:  -25.0\n"
     ]
    }
   ],
   "source": [
    "C = Compearer(linr, dtc, X, y)\n",
    "C.validate('mean_squared_error', loo)"
   ]
  }
 ],
 "metadata": {
  "kernelspec": {
   "display_name": "Python 3",
   "language": "python",
   "name": "python3"
  },
  "language_info": {
   "codemirror_mode": {
    "name": "ipython",
    "version": 3
   },
   "file_extension": ".py",
   "mimetype": "text/x-python",
   "name": "python",
   "nbconvert_exporter": "python",
   "pygments_lexer": "ipython3",
   "version": "3.5.1"
  },
  "widgets": {
   "state": {},
   "version": "1.1.2"
  }
 },
 "nbformat": 4,
 "nbformat_minor": 2
}
