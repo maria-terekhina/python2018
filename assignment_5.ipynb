{
 "cells": [
  {
   "cell_type": "markdown",
   "metadata": {},
   "source": [
    "# Assignment 5\n",
    "\n",
    "Explore embeddings and CNN\n",
    "\n",
    "Using tweeter dataset ( https://www.kaggle.com/utathya/sentiment-analysis-of-imdb-reviews/data) and already existing splitting on train/test sets, develop a model for sentiment analysis.  \n",
    "Your quality metric is crossentropy (`sklearn.metrics.log_loss`, `torch.nn.CrossEntropy`)  \n",
    "\n",
    "Your model should be based on CNN and written in pytorch `torch.nn.Conv1d`.\n",
    "\n",
    "Explore 3 ways, which of them has better perfomance on test set?:\n",
    "1. Using pretrained word embeddings with frozen weights. `torch.nn.Embedding.from_pretrained(embed_matrix, frozen=True)`.\n",
    "You can download any pretrained embeddings you like.\n",
    "2. Train embeddings yourself, initializing from pretrained weights. `torch.nn.Embedding.from_pretrained(embed_matrix, frozen=False)`\n",
    "3. Train embeddings yourself with random initialization `torch.nn.init.uniform_(nn.Embeddings.weights)`\n",
    "\n",
    "Experiment with model arhitecture (as bonus):\n",
    "1. activation functions RELU, ELU, etc `torch.nn.functional.relu, torch.nn.functional.elu`  \n",
    "1. Stack layers\n",
    "1. max or average pooling (`torch.nn.functional.max_pool1d, torch.nn.functional.avg_pool1d`)\n",
    "1. Dropout\n",
    "\n",
    "\n",
    "Other requirements:\n",
    "1. Your training routine should use any learning scheduler (torch.nn.optim.lr_scheduler).  \n",
    "Plot current learning rate against number of epochs, e.g. `tt.optim.Adam.param_groups[0]['lr']`.  \n",
    "\n",
    "1. Your training routine should use early stopping on validation dataset\n",
    "Use hold out validation scheme in your experiments.\n",
    "\n",
    "1. You should use torchtext for parsing \n",
    "\n",
    "**Note**:\n",
    "This assignment has no baseline. Instead, **validation curves** for explored architectures are expected.  \n",
    "Validation curve is plot of model test score against model hyperparameter value.  \n",
    "example (https://scikit-learn.org/stable/auto_examples/model_selection/plot_validation_curve.html) . \n",
    "Though, using `sklearn.model_selection.validation_curve` is not necessary.  \n",
    "\n",
    "\n",
    "\n",
    "\n"
   ]
  },
  {
   "cell_type": "code",
   "execution_count": 9,
   "metadata": {},
   "outputs": [],
   "source": [
    "from sklearn.metrics import log_loss\n",
    "from torch import nn\n",
    "from torch import optim\n",
    "import torch as tt\n",
    "from sklearn.model_selection import validation_curve\n",
    "import pandas as pd\n",
    "from nltk.corpus import stopwords\n",
    "import string\n",
    "import re\n",
    "from nltk.stem.wordnet import WordNetLemmatizer\n",
    "from nltk.tokenize import word_tokenize\n",
    "from sklearn.preprocessing import LabelEncoder\n",
    "from sklearn.feature_extraction.text import TfidfVectorizer\n",
    "import numpy as np\n",
    "from torchtext.data import Field, LabelField, BucketIterator, TabularDataset, Iterator\n",
    "import nltk\n",
    "import torch.nn.functional as F\n",
    "\n",
    "SEED = 42\n",
    "np.random.seed(SEED)"
   ]
  },
  {
   "cell_type": "code",
   "execution_count": 17,
   "metadata": {},
   "outputs": [
    {
     "name": "stdout",
     "output_type": "stream",
     "text": [
      "[nltk_data] Downloading package stopwords to\n",
      "[nltk_data]     C:\\Users\\Nikita\\AppData\\Roaming\\nltk_data...\n",
      "[nltk_data]   Unzipping corpora\\stopwords.zip.\n"
     ]
    },
    {
     "data": {
      "text/plain": [
       "True"
      ]
     },
     "execution_count": 17,
     "metadata": {},
     "output_type": "execute_result"
    }
   ],
   "source": [
    "nltk.download('stopwords')"
   ]
  },
  {
   "cell_type": "code",
   "execution_count": 10,
   "metadata": {},
   "outputs": [],
   "source": [
    "df_master = pd.read_csv(r'imdb_master.csv', encoding='latin-1', index_col = 0)\n",
    "df_master.to_csv(r'imdb_master.csv', encoding='utf-8')"
   ]
  },
  {
   "cell_type": "code",
   "execution_count": 11,
   "metadata": {},
   "outputs": [],
   "source": [
    "df_master[df_master['type'] == 'test'].to_csv(r'test.csv', encoding='utf-8')\n",
    "df_master[df_master['type'] == 'train'].to_csv(r'train.csv', encoding='utf-8')"
   ]
  },
  {
   "cell_type": "code",
   "execution_count": 15,
   "metadata": {},
   "outputs": [],
   "source": [
    "#import spacy\n",
    "\n",
    "#nlp = spacy.load('en')\n",
    "\n",
    "def tokenizer(text): # create a tokenizer function\n",
    "    return [tok for tok in text.split() if tok.isalpha()]"
   ]
  },
  {
   "cell_type": "code",
   "execution_count": 18,
   "metadata": {},
   "outputs": [],
   "source": [
    "classes={'neg': 0, 'pos': 1, 'unsup': 2}\n",
    "\n",
    "\n",
    "TEXT = Field(include_lengths=True, batch_first=True, \n",
    "             tokenize=tokenizer,\n",
    "             eos_token='<eos>',\n",
    "             lower=True,\n",
    "             stop_words=nltk.corpus.stopwords.words('english'))\n",
    "LABEL = LabelField(dtype=tt.int64, use_vocab=True, preprocessing=lambda x: classes[x])\n",
    "\n",
    "\n",
    "dataset = TabularDataset('imdb_master.csv', format='csv',\n",
    "                         fields=[(None, None), (None, None),('text', TEXT), ('label', LABEL), (None, None)], \n",
    "                         skip_header=True)\n",
    "\n",
    "train = TabularDataset('train.csv', format='csv',\n",
    "                         fields=[(None, None), (None, None),('text', TEXT), ('label', LABEL), (None, None)], \n",
    "                         skip_header=True)\n",
    "\n",
    "test = TabularDataset('test.csv', format='csv',\n",
    "                         fields=[(None, None), (None, None),('text', TEXT), ('label', LABEL), (None, None)], \n",
    "                         skip_header=True)"
   ]
  },
  {
   "cell_type": "code",
   "execution_count": 19,
   "metadata": {},
   "outputs": [
    {
     "name": "stderr",
     "output_type": "stream",
     "text": [
      ".vector_cache\\glove.6B.zip: 862MB [05:08, 2.79MB/s]                            \n",
      "100%|███████████████████████████████▉| 399497/400000 [01:13<00:00, 5435.24it/s]"
     ]
    },
    {
     "data": {
      "text/plain": [
       "31921"
      ]
     },
     "execution_count": 19,
     "metadata": {},
     "output_type": "execute_result"
    },
    {
     "name": "stderr",
     "output_type": "stream",
     "text": [
      "\r",
      "100%|███████████████████████████████▉| 399497/400000 [01:30<00:00, 4435.10it/s]"
     ]
    }
   ],
   "source": [
    "TEXT.build_vocab(dataset, min_freq=10, vectors=\"glove.6B.100d\")\n",
    "len(TEXT.vocab.itos)"
   ]
  },
  {
   "cell_type": "code",
   "execution_count": 20,
   "metadata": {},
   "outputs": [],
   "source": [
    "LABEL.build_vocab(dataset)"
   ]
  },
  {
   "cell_type": "code",
   "execution_count": 21,
   "metadata": {},
   "outputs": [],
   "source": [
    "train, valid = train.split(0.7, stratified=True)"
   ]
  },
  {
   "cell_type": "code",
   "execution_count": 24,
   "metadata": {},
   "outputs": [
    {
     "data": {
      "text/plain": [
       "31921"
      ]
     },
     "execution_count": 24,
     "metadata": {},
     "output_type": "execute_result"
    }
   ],
   "source": [
    "len(TEXT.vocab.vectors)"
   ]
  },
  {
   "cell_type": "markdown",
   "metadata": {},
   "source": [
    "#### Зададим модель"
   ]
  },
  {
   "cell_type": "code",
   "execution_count": 25,
   "metadata": {},
   "outputs": [],
   "source": [
    "class MyModel(nn.Module):\n",
    "    \n",
    "    def __init__(self, vocab_size, embed_size, embed_matrix, hidden_size, kernels, mode, n_epochs=5):\n",
    "        super(MyModel, self).__init__()\n",
    "        if mode == 'pretrained':\n",
    "            self.embedding = nn.Embedding.from_pretrained(embed_matrix, freeze=True)\n",
    "        elif mode == 'weights':\n",
    "            self.embedding = nn.Embedding.from_pretrained(embed_matrix, freeze=False)\n",
    "        elif mode == 'random':\n",
    "            self.embedding = nn.Embedding.from_pretrained(nn.init.uniform_(tt.ones((vocab_size,100))), freeze=False)\n",
    "            \n",
    "        self.n_epochs = n_epochs\n",
    "        self.convs = nn.ModuleList([nn.Conv1d(embed_size, hidden_size, k, padding=5) for k in kernels])\n",
    "        \n",
    "        self.fc = nn.Linear(hidden_size * len(kernels), 3)\n",
    "        \n",
    "    def forward(self, x):\n",
    "        \n",
    "        x = self.embedding(x)\n",
    "        x = x.transpose(1,2)\n",
    "        \n",
    "        concatenated = []\n",
    "        for conv in self.convs:\n",
    "            z = conv(x)\n",
    "            z = F.avg_pool1d(z, kernel_size=z.size(2))\n",
    "            z = z.squeeze(2)\n",
    "            concatenated.append(z)\n",
    "            \n",
    "        x = tt.cat(concatenated, 1)\n",
    "        x = self.fc(x)\n",
    "        return x\n",
    "    \n",
    "    \n",
    "    def train_nn(self):\n",
    "        min_loss = np.inf\n",
    "        no_improvement = 0\n",
    "        lr_list = list()\n",
    "        for i in range(self.n_epochs):\n",
    "            train_loss = 0\n",
    "            for batch in train_iterator:\n",
    "                optimizer.zero_grad()\n",
    "                y_pred = self.forward(batch.text[0])\n",
    "                loss = criterion(y_pred, batch.label)\n",
    "                train_loss += loss\n",
    "                loss.backward()\n",
    "                optimizer.step()\n",
    "            train_loss = train_loss / len(train_iterator)\n",
    "            \n",
    "            val_loss_vols = 0\n",
    "            with tt.no_grad():\n",
    "                for batch in valid_iterator:\n",
    "                    val_pred = self.forward(batch.text[0])\n",
    "                    val_loss = criterion(val_pred, batch.label)\n",
    "                    val_loss_vols += val_loss\n",
    "            val_loss = val_loss_vols / len(valid_iterator)\n",
    "            \n",
    "            scheduler.step(val_loss)\n",
    "            lr_list.append(optimizer.param_groups[0]['lr'])\n",
    "            \n",
    "            if val_loss < min_loss:\n",
    "                min_loss = val_loss\n",
    "                no_improvement = 0\n",
    "            elif no_improvement < 10:\n",
    "                no_improvement += 1\n",
    "            else:\n",
    "                break\n",
    "                \n",
    "            print(f'| Epoch: {i+1:02} | Train Loss: {train_loss:.3f} | Val. Loss: {val_loss:.3f} |')\n",
    "    \n",
    "        return lr_list\n",
    "    \n",
    "    def evaluate(self, test_iterator, criterion):\n",
    "        epoch_loss = 0\n",
    "        with tt.no_grad():\n",
    "                for batch in test_iterator:\n",
    "                    test_pred = self.forward(batch.text[0])\n",
    "                    test_loss = criterion(test_pred, batch.label)\n",
    "                    epoch_loss += test_loss\n",
    "                    \n",
    "        return epoch_loss / len(test_iterator)"
   ]
  },
  {
   "cell_type": "code",
   "execution_count": 26,
   "metadata": {},
   "outputs": [],
   "source": [
    "tt.cuda.empty_cache()\n",
    "\n",
    "batch_size = 32\n",
    "\n",
    "train_iterator, valid_iterator, test_iterator = BucketIterator.splits(\n",
    "    (train, valid, test),\n",
    "    batch_sizes=(batch_size, batch_size, batch_size),\n",
    "    shuffle=True,\n",
    "    sort_key=lambda x: len(x.text)\n",
    ")"
   ]
  },
  {
   "cell_type": "code",
   "execution_count": 27,
   "metadata": {},
   "outputs": [],
   "source": [
    "model = MyModel(len(TEXT.vocab.itos),\n",
    "                embed_size=100,\n",
    "                embed_matrix=TEXT.vocab.vectors,\n",
    "                hidden_size=128,\n",
    "                kernels=[2,3,4,5],\n",
    "                mode='pretrained',\n",
    "                n_epochs=2\n",
    "               )\n",
    "\n",
    "\n",
    "optimizer = optim.Adam(model.parameters())\n",
    "scheduler = optim.lr_scheduler.ReduceLROnPlateau(optimizer, patience=3, verbose=False, cooldown=5)\n",
    "criterion = nn.CrossEntropyLoss()"
   ]
  },
  {
   "cell_type": "code",
   "execution_count": 28,
   "metadata": {},
   "outputs": [
    {
     "name": "stdout",
     "output_type": "stream",
     "text": [
      "| Epoch: 01 | Train Loss: 0.834 | Val. Loss: 0.950 |\n",
      "| Epoch: 02 | Train Loss: 0.821 | Val. Loss: 0.894 |\n"
     ]
    }
   ],
   "source": [
    "lr = model.train_nn()"
   ]
  },
  {
   "cell_type": "code",
   "execution_count": 29,
   "metadata": {},
   "outputs": [
    {
     "name": "stdout",
     "output_type": "stream",
     "text": [
      "| Epoch: 01 | Train Loss: 0.874 | Val. Loss: 0.836 |\n",
      "| Epoch: 02 | Train Loss: 0.796 | Val. Loss: 1.088 |\n",
      "| Epoch: 03 | Train Loss: 0.729 | Val. Loss: 1.153 |\n",
      "| Epoch: 04 | Train Loss: 0.665 | Val. Loss: 1.403 |\n",
      "| Epoch: 05 | Train Loss: 0.593 | Val. Loss: 1.447 |\n",
      "| Epoch: 06 | Train Loss: 0.486 | Val. Loss: 1.947 |\n",
      "| Epoch: 07 | Train Loss: 0.465 | Val. Loss: 2.084 |\n",
      "| Epoch: 08 | Train Loss: 0.454 | Val. Loss: 2.176 |\n",
      "| Epoch: 09 | Train Loss: 0.444 | Val. Loss: 2.277 |\n",
      "| Epoch: 10 | Train Loss: 0.431 | Val. Loss: 2.363 |\n",
      "| Epoch: 11 | Train Loss: 0.422 | Val. Loss: 2.424 |\n",
      " Test Loss: 5.684\n",
      "| Epoch: 01 | Train Loss: 0.834 | Val. Loss: 0.916 |\n",
      "| Epoch: 02 | Train Loss: 0.821 | Val. Loss: 0.933 |\n",
      "| Epoch: 03 | Train Loss: 0.819 | Val. Loss: 0.919 |\n",
      "| Epoch: 04 | Train Loss: 0.817 | Val. Loss: 1.013 |\n",
      "| Epoch: 05 | Train Loss: 0.817 | Val. Loss: 1.048 |\n",
      "| Epoch: 06 | Train Loss: 0.810 | Val. Loss: 0.962 |\n",
      "| Epoch: 07 | Train Loss: 0.810 | Val. Loss: 0.970 |\n",
      "| Epoch: 08 | Train Loss: 0.810 | Val. Loss: 0.968 |\n",
      "| Epoch: 09 | Train Loss: 0.810 | Val. Loss: 0.953 |\n",
      "| Epoch: 10 | Train Loss: 0.810 | Val. Loss: 0.969 |\n",
      "| Epoch: 11 | Train Loss: 0.810 | Val. Loss: 0.981 |\n",
      " Test Loss: 1.516\n",
      "| Epoch: 01 | Train Loss: 0.806 | Val. Loss: 0.977 |\n",
      "| Epoch: 02 | Train Loss: 0.690 | Val. Loss: 1.327 |\n",
      "| Epoch: 03 | Train Loss: 0.564 | Val. Loss: 1.471 |\n",
      "| Epoch: 04 | Train Loss: 0.468 | Val. Loss: 2.172 |\n",
      "| Epoch: 05 | Train Loss: 0.405 | Val. Loss: 2.350 |\n",
      "| Epoch: 06 | Train Loss: 0.294 | Val. Loss: 3.247 |\n",
      "| Epoch: 07 | Train Loss: 0.275 | Val. Loss: 3.612 |\n",
      "| Epoch: 08 | Train Loss: 0.265 | Val. Loss: 3.891 |\n",
      "| Epoch: 09 | Train Loss: 0.255 | Val. Loss: 4.040 |\n",
      "| Epoch: 10 | Train Loss: 0.246 | Val. Loss: 4.241 |\n",
      "| Epoch: 11 | Train Loss: 0.237 | Val. Loss: 4.407 |\n",
      " Test Loss: 13.283\n"
     ]
    }
   ],
   "source": [
    "losses = list()\n",
    "lr_all = list()\n",
    "\n",
    "for mode in ['random', 'pretrained', 'weights']:\n",
    "    \n",
    "    tt.cuda.empty_cache()\n",
    "    \n",
    "    model = MyModel(len(TEXT.vocab.itos),\n",
    "                embed_size=100,\n",
    "                embed_matrix=TEXT.vocab.vectors,\n",
    "                hidden_size=128,\n",
    "                kernels=[2,3,4,5],\n",
    "                mode=mode,\n",
    "                n_epochs=100\n",
    "               )\n",
    "    \n",
    "    optimizer = optim.Adam(model.parameters())\n",
    "    scheduler = optim.lr_scheduler.ReduceLROnPlateau(optimizer, patience=3, verbose=False, cooldown=5)\n",
    "    criterion = nn.CrossEntropyLoss()\n",
    "\n",
    "    lr = model.train_nn()\n",
    "    lr_all.append(lr)\n",
    "    \n",
    "    test_loss = model.evaluate(test_iterator, criterion)\n",
    "    losses.append(test_loss)\n",
    "    \n",
    "    print(f' Test Loss: {test_loss:.3f}')"
   ]
  },
  {
   "cell_type": "code",
   "execution_count": 31,
   "metadata": {},
   "outputs": [],
   "source": [
    "from matplotlib import pyplot as plt\n",
    "% matplotlib inline"
   ]
  },
  {
   "cell_type": "markdown",
   "metadata": {},
   "source": [
    "Learning rate against the number of epoch"
   ]
  },
  {
   "cell_type": "code",
   "execution_count": 46,
   "metadata": {},
   "outputs": [
    {
     "data": {
      "text/plain": [
       "Text(0.5,1,'Learning rate against the number of epoch')"
      ]
     },
     "execution_count": 46,
     "metadata": {},
     "output_type": "execute_result"
    },
    {
     "data": {
      "image/png": "[encoded data removed]",
      "text/plain": [
       "<matplotlib.figure.Figure at 0x6ec36940>"
      ]
     },
     "metadata": {
      "needs_background": "light"
     },
     "output_type": "display_data"
    }
   ],
   "source": [
    "plt.plot(range(0, len(lr_all[0])), lr_all[0], label = 'random', linewidth=10)\n",
    "plt.plot(range(0, len(lr_all[1])), lr_all[1], label = 'pretrained', linewidth=5)\n",
    "plt.plot(range(0, len(lr_all[2])), lr_all[2], label = 'weights')\n",
    "plt.legend()\n",
    "plt.xlabel('No. of epoch')\n",
    "plt.ylabel('Laerning rate')\n",
    "plt.title('Learning rate against the number of epoch')"
   ]
  },
  {
   "cell_type": "markdown",
   "metadata": {},
   "source": [
    "Validation Curve"
   ]
  },
  {
   "cell_type": "code",
   "execution_count": 43,
   "metadata": {},
   "outputs": [
    {
     "data": {
      "text/plain": [
       "Text(0.5,1,'Validation Curve')"
      ]
     },
     "execution_count": 43,
     "metadata": {},
     "output_type": "execute_result"
    },
    {
     "data": {
      "image/png": "[encoded data removed]",
      "text/plain": [
       "<matplotlib.figure.Figure at 0x6dbc1780>"
      ]
     },
     "metadata": {
      "needs_background": "light"
     },
     "output_type": "display_data"
    }
   ],
   "source": [
    "plt.plot(['pretrained', 'random', 'weights'], [losses[1], losses[0], losses[2]])\n",
    "plt.xlabel('Type of embeddings')\n",
    "plt.ylabel('Test Crossentropy Loss')\n",
    "plt.title('Validation Curve')"
   ]
  }
 ],
 "metadata": {
  "kernelspec": {
   "display_name": "Python 3",
   "language": "python",
   "name": "python3"
  }
 },
 "nbformat": 4,
 "nbformat_minor": 2
}
